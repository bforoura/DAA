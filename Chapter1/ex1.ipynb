{
  "nbformat": 4,
  "nbformat_minor": 0,
  "metadata": {
    "colab": {
      "provenance": [],
      "authorship_tag": "ABX9TyPsMuFQyuVan0gUgw1LTbi9",
      "include_colab_link": true
    },
    "kernelspec": {
      "name": "python3",
      "display_name": "Python 3"
    },
    "language_info": {
      "name": "python"
    }
  },
  "cells": [
    {
      "cell_type": "markdown",
      "metadata": {
        "id": "view-in-github",
        "colab_type": "text"
      },
      "source": [
        "<a href=\"https://colab.research.google.com/github/bforoura/DAA/blob/main/Chapter1/ex1.ipynb\" target=\"_parent\"><img src=\"https://colab.research.google.com/assets/colab-badge.svg\" alt=\"Open In Colab\"/></a>"
      ]
    },
    {
      "cell_type": "code",
      "execution_count": 1,
      "metadata": {
        "id": "Tr6evFt_Ls1t"
      },
      "outputs": [],
      "source": [
        "def insertion_sort(s):\n",
        "    n = len(s)\n",
        "    for i in range(1, n):\n",
        "        j = i\n",
        "        while j > 0 and s[j] < s[j - 1]:\n",
        "            s[j], s[j - 1] = s[j - 1], s[j]  \t# Swap\n",
        "            j -= 1"
      ]
    },
    {
      "cell_type": "code",
      "source": [
        "arr = [154, 245, 568, 324, 654, 324]\n",
        "insertion_sort(arr)\n",
        "print(arr)"
      ],
      "metadata": {
        "colab": {
          "base_uri": "https://localhost:8080/"
        },
        "id": "jh1pM-I8LxEj",
        "outputId": "72bec407-5f9a-4802-fc29-5920c04c9fb8"
      },
      "execution_count": 2,
      "outputs": [
        {
          "output_type": "stream",
          "name": "stdout",
          "text": [
            "[154, 245, 324, 324, 568, 654]\n"
          ]
        }
      ]
    },
    {
      "cell_type": "code",
      "source": [
        "arr = ['Mike', 'Bob', 'Sally', 'Jill', 'Jan']\n",
        "insertion_sort(arr)\n",
        "print(arr)"
      ],
      "metadata": {
        "colab": {
          "base_uri": "https://localhost:8080/"
        },
        "id": "idRzycICL7En",
        "outputId": "4be2b069-4d00-4412-eb85-4c1a438e67ac"
      },
      "execution_count": 3,
      "outputs": [
        {
          "output_type": "stream",
          "name": "stdout",
          "text": [
            "['Bob', 'Jan', 'Jill', 'Mike', 'Sally']\n"
          ]
        }
      ]
    }
  ]
}